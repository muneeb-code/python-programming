{
  "nbformat": 4,
  "nbformat_minor": 0,
  "metadata": {
    "colab": {
      "provenance": [],
      "authorship_tag": "ABX9TyPp2gepbTBjVMYascNBww12",
      "include_colab_link": true
    },
    "kernelspec": {
      "name": "python3",
      "display_name": "Python 3"
    },
    "language_info": {
      "name": "python"
    }
  },
  "cells": [
    {
      "cell_type": "markdown",
      "metadata": {
        "id": "view-in-github",
        "colab_type": "text"
      },
      "source": [
        "<a href=\"https://colab.research.google.com/github/muneeb-code/python-programming/blob/main/class-04/assignment.ipynb\" target=\"_parent\"><img src=\"https://colab.research.google.com/assets/colab-badge.svg\" alt=\"Open In Colab\"/></a>"
      ]
    },
    {
      "cell_type": "markdown",
      "source": [
        "# match vs if else\n",
        "✅ When to Prefer Which?\n",
        "Use if-else when:\n",
        "\n",
        "You need complex logic (e.g., multiple variables, logical operators).\n",
        "\n",
        "Conditions are not just value checks.\n",
        "\n",
        "Use match when:\n",
        "\n",
        "You're comparing a single value to multiple constants or patterns.\n",
        "\n",
        "You want cleaner, more readable code."
      ],
      "metadata": {
        "id": "lHdlYezTBauZ"
      }
    },
    {
      "cell_type": "markdown",
      "source": [],
      "metadata": {
        "id": "cnuEIXtWAFJ9"
      }
    },
    {
      "cell_type": "code",
      "execution_count": 3,
      "metadata": {
        "colab": {
          "base_uri": "https://localhost:8080/"
        },
        "id": "yeJYRGjgwJ_6",
        "outputId": "229d464b-a795-4475-9de3-ca82511c8e0d"
      },
      "outputs": [
        {
          "output_type": "stream",
          "name": "stdout",
          "text": [
            "10\n",
            "20\n",
            "30\n",
            "40\n"
          ]
        }
      ],
      "source": [
        "# how we will implement for loop on list\n",
        "my_list = [10, 20, 30, 40]\n",
        "\n",
        "for item in my_list:\n",
        "    print(item)"
      ]
    }
  ]
}