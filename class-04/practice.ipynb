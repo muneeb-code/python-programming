{
  "nbformat": 4,
  "nbformat_minor": 0,
  "metadata": {
    "colab": {
      "provenance": [],
      "include_colab_link": true
    },
    "kernelspec": {
      "name": "python3",
      "display_name": "Python 3"
    },
    "language_info": {
      "name": "python"
    }
  },
  "cells": [
    {
      "cell_type": "markdown",
      "metadata": {
        "id": "view-in-github",
        "colab_type": "text"
      },
      "source": [
        "<a href=\"https://colab.research.google.com/github/muneeb-code/python-programming/blob/main/class-04/practice.ipynb\" target=\"_parent\"><img src=\"https://colab.research.google.com/assets/colab-badge.svg\" alt=\"Open In Colab\"/></a>"
      ]
    },
    {
      "cell_type": "code",
      "execution_count": null,
      "metadata": {
        "colab": {
          "base_uri": "https://localhost:8080/"
        },
        "id": "glwNRq1HqU1O",
        "outputId": "e623a6e9-105e-491f-c6dd-8930be6bdd85"
      },
      "outputs": [
        {
          "output_type": "stream",
          "name": "stdout",
          "text": [
            "Passport Issue\n"
          ]
        }
      ],
      "source": [
        "# if else\n",
        "user_age=22\n",
        "nationality='pakistan'\n",
        "\n",
        "if user_age>=18 and nationality=='pakistan':\n",
        "  print(\"Passport Issue\")\n",
        "else:\n",
        " print(\"you are too young\")\n"
      ]
    },
    {
      "cell_type": "code",
      "source": [
        "valid_user_name='muneeb'\n",
        "valid_user_password='123'\n",
        "\n",
        "user_name=input(\"Enter your user name :\")\n",
        "user_password=input(\"Enter your password :\")\n",
        "\n",
        "if user_name==valid_user_name and user_password==valid_user_password:\n",
        "  print(\"Login Successfully\")\n",
        "else:\n",
        " print(\"Invalid  Credentials\")"
      ],
      "metadata": {
        "colab": {
          "base_uri": "https://localhost:8080/"
        },
        "id": "0i-ZhO3isW-h",
        "outputId": "bfbc7ef5-2c9c-4ef5-e038-a35632d32c9d"
      },
      "execution_count": null,
      "outputs": [
        {
          "output_type": "stream",
          "name": "stdout",
          "text": [
            "Enter your user name :muneeb\n",
            "Enter your password :123\n",
            "Login Successfully\n"
          ]
        }
      ]
    },
    {
      "cell_type": "code",
      "source": [
        "# if elif else\n",
        "valid_user_name='muneeb'\n",
        "valid_user_password='123'\n",
        "valid_nfa='1122'\n",
        "\n",
        "user_name=input(\"Enter your user name :\")\n",
        "user_password=input(\"Enter your password :\")\n",
        "user_nfa=input(\"Enter your nfa :\")\n",
        "\n",
        "if user_name==valid_user_name and user_password==valid_user_password:\n",
        "  print(\"Login Successfully\")\n",
        "elif user_nfa==valid_nfa:\n",
        " print(\"Login Successfully with NFA\")\n",
        "else:\n",
        " print(\"Invalid  Credentials\")\n"
      ],
      "metadata": {
        "colab": {
          "base_uri": "https://localhost:8080/"
        },
        "id": "4hXg6ARmuvMe",
        "outputId": "cec5e787-7acc-419e-919b-0b4fed4cdc20"
      },
      "execution_count": null,
      "outputs": [
        {
          "output_type": "stream",
          "name": "stdout",
          "text": [
            "Enter your user name :muneeb\n",
            "Enter your password :123\n",
            "Enter your nfa :11\n",
            "Login Successfully\n"
          ]
        }
      ]
    },
    {
      "cell_type": "code",
      "source": [
        "# Ternery Operator\n",
        "valid_user_name='muneeb'\n",
        "valid_user_password='123'\n",
        "\n",
        "user_name=input(\"Enter your user name :\")\n",
        "user_password=input(\"Enter your password :\")\n",
        "\"login Successfully\" if user_name==valid_user_name and user_password==valid_user_password else \"Invalid Credentials\"\n"
      ],
      "metadata": {
        "colab": {
          "base_uri": "https://localhost:8080/",
          "height": 70
        },
        "id": "iwT5aUzR67-W",
        "outputId": "83af5ef2-1e8e-4586-8b48-b845cd7f0863"
      },
      "execution_count": null,
      "outputs": [
        {
          "name": "stdout",
          "output_type": "stream",
          "text": [
            "Enter your user name :muneeb\n",
            "Enter your password :123\n"
          ]
        },
        {
          "output_type": "execute_result",
          "data": {
            "text/plain": [
              "'login Successfully'"
            ],
            "application/vnd.google.colaboratory.intrinsic+json": {
              "type": "string"
            }
          },
          "metadata": {},
          "execution_count": 47
        }
      ]
    },
    {
      "cell_type": "code",
      "source": [
        "# match stamtement\n",
        "score=90\n",
        "match score:\n",
        "  case 90:\n",
        "    print(\"A\")\n",
        "  case 80:\n",
        "    print(\"B\")\n",
        "  case 70:\n",
        "    print(\"C\")\n",
        "  case 60:\n",
        "    print(\"D\")\n",
        "  case _:\n",
        "    print(\"F\")"
      ],
      "metadata": {
        "colab": {
          "base_uri": "https://localhost:8080/"
        },
        "id": "j8lf4pf-5yUN",
        "outputId": "ed4b0bca-b61e-42a1-f5a0-6b4a98efcb07"
      },
      "execution_count": null,
      "outputs": [
        {
          "output_type": "stream",
          "name": "stdout",
          "text": [
            "A\n"
          ]
        }
      ]
    },
    {
      "cell_type": "markdown",
      "source": [
        "# Loops"
      ],
      "metadata": {
        "id": "5PNuWQDu_mMz"
      }
    },
    {
      "cell_type": "code",
      "source": [
        "# break statement\n",
        "valid_user_name='muneeb'\n",
        "valid_user_password='123'\n",
        "\n",
        "for i in range(3):\n",
        "  user_name=input(\"Enter your user name :\")\n",
        "  user_password=input(\"Enter your password :\")\n",
        "  if user_name==valid_user_name and user_password==valid_user_password:\n",
        "   print(\"Login Successfully\")\n",
        "   break\n",
        "  else:\n",
        "   print(\"Invalid Credentials\")"
      ],
      "metadata": {
        "colab": {
          "base_uri": "https://localhost:8080/"
        },
        "id": "mnkrMiYqmOnT",
        "outputId": "9a6c3193-1e3d-4e7b-c8f1-a0ee1a6b51c3"
      },
      "execution_count": null,
      "outputs": [
        {
          "output_type": "stream",
          "name": "stdout",
          "text": [
            "Enter your user name :muneeb\n",
            "Enter your password :123\n",
            "Login Successfully\n"
          ]
        }
      ]
    },
    {
      "cell_type": "code",
      "source": [
        "# continue statement\n",
        "for i in range(5):\n",
        "  if i==2:\n",
        "   continue\n",
        "  print(i)"
      ],
      "metadata": {
        "colab": {
          "base_uri": "https://localhost:8080/"
        },
        "id": "RHjP90gAx_KZ",
        "outputId": "6700402c-1cd8-4734-f467-13f4c641e010"
      },
      "execution_count": null,
      "outputs": [
        {
          "output_type": "stream",
          "name": "stdout",
          "text": [
            "0\n",
            "1\n",
            "3\n",
            "4\n"
          ]
        }
      ]
    },
    {
      "cell_type": "markdown",
      "source": [
        "# While Loop"
      ],
      "metadata": {
        "id": "ZSLGDp_Iwj9I"
      }
    },
    {
      "cell_type": "code",
      "source": [
        "num_of_attempts=3\n",
        "\n",
        "while(num_of_attempts>0):\n",
        "  user_name=input(\"Enter your user name :\")\n",
        "  user_password=input(\"Enter your password :\")\n",
        "  if user_name==valid_user_name and user_password==valid_user_password:\n",
        "   print(\"Login Successfully\")\n",
        "   break\n",
        "  else:\n",
        "   print(\"Invalid Credentials\")\n",
        "\n",
        "   print(\"====================\")\n",
        "   num_of_attempts-=1\n",
        "\n",
        "   if num_of_attempts==0:\n",
        "    print(\"Accout have Temporary blocked!\")"
      ],
      "metadata": {
        "colab": {
          "base_uri": "https://localhost:8080/"
        },
        "id": "EobbkFtRwrz8",
        "outputId": "4246e907-40dc-41d1-e625-95aaf59a8546"
      },
      "execution_count": null,
      "outputs": [
        {
          "output_type": "stream",
          "name": "stdout",
          "text": [
            "Enter your user name :muneeb\n",
            "Enter your password :123\n",
            "Login Successfully\n"
          ]
        }
      ]
    }
  ]
}