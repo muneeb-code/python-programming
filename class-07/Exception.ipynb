{
  "nbformat": 4,
  "nbformat_minor": 0,
  "metadata": {
    "colab": {
      "provenance": [],
      "authorship_tag": "ABX9TyN8Ba+0PLa6NVMCIS7+e535",
      "include_colab_link": true
    },
    "kernelspec": {
      "name": "python3",
      "display_name": "Python 3"
    },
    "language_info": {
      "name": "python"
    }
  },
  "cells": [
    {
      "cell_type": "markdown",
      "metadata": {
        "id": "view-in-github",
        "colab_type": "text"
      },
      "source": [
        "<a href=\"https://colab.research.google.com/github/muneeb-code/python-programming/blob/main/class-07/Exception.ipynb\" target=\"_parent\"><img src=\"https://colab.research.google.com/assets/colab-badge.svg\" alt=\"Open In Colab\"/></a>"
      ]
    },
    {
      "cell_type": "code",
      "execution_count": null,
      "metadata": {
        "id": "BwWeasFWhZd_"
      },
      "outputs": [],
      "source": [
        "def divide_numbers():\n",
        "  try:\n",
        "    numerator = int(input(\"Enter the numerator: \"))\n",
        "    denominator = int(input(\"Enter the denominator: \"))\n",
        "    result = numerator / denominator\n",
        "    print(\"The result is:\", result)\n",
        "  except ZeroDivisionError:\n",
        "    print(\"Error: Cannot divide by zero.\")\n",
        "  except Exception as e:\n",
        "      print(\"An error occurred:\", str(e))\n",
        "\n",
        "\n",
        "divide_numbers()"
      ]
    }
  ]
}