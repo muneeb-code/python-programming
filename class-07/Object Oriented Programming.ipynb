{
  "nbformat": 4,
  "nbformat_minor": 0,
  "metadata": {
    "colab": {
      "provenance": [],
      "authorship_tag": "ABX9TyNYUTGCd6xHqlZ5WIDL2J8m",
      "include_colab_link": true
    },
    "kernelspec": {
      "name": "python3",
      "display_name": "Python 3"
    },
    "language_info": {
      "name": "python"
    }
  },
  "cells": [
    {
      "cell_type": "markdown",
      "metadata": {
        "id": "view-in-github",
        "colab_type": "text"
      },
      "source": [
        "<a href=\"https://colab.research.google.com/github/muneeb-code/python-programming/blob/main/class-07/Object%20Oriented%20Programming.ipynb\" target=\"_parent\"><img src=\"https://colab.research.google.com/assets/colab-badge.svg\" alt=\"Open In Colab\"/></a>"
      ]
    },
    {
      "cell_type": "markdown",
      "source": [],
      "metadata": {
        "id": "_HgDk-bGPaX_"
      }
    },
    {
      "cell_type": "code",
      "source": [
        "class Car:\n",
        "  # class properties\n",
        "  name=\"ABC\"\n",
        "  model=\"XYZ\"\n",
        "  year=2022\n",
        "  number_of_wheels=4\n",
        "  enginee=\"1300cc\"\n",
        "\n",
        "# Creating object of class (create instance of class)\n",
        "mehran =Car()\n",
        "print(mehran.name)\n",
        "print(mehran.model)\n",
        "print(mehran.year)\n",
        "print(mehran.number_of_wheels)\n",
        "print(mehran.enginee)\n",
        "\n",
        "\n",
        "honda=Car()\n",
        "print(honda.name)\n",
        "print(honda.model)\n",
        "print(honda.year)\n",
        "print(honda.number_of_wheels)\n",
        "print(honda.enginee)"
      ],
      "metadata": {
        "colab": {
          "base_uri": "https://localhost:8080/"
        },
        "id": "TPPfRMJQR5yI",
        "outputId": "5176bb32-3883-49fa-d7aa-0c65daaac754"
      },
      "execution_count": 44,
      "outputs": [
        {
          "output_type": "stream",
          "name": "stdout",
          "text": [
            "ABC\n",
            "XYZ\n",
            "2022\n",
            "4\n",
            "1300cc\n",
            "ABC\n",
            "XYZ\n",
            "2022\n",
            "4\n",
            "1300cc\n"
          ]
        }
      ]
    },
    {
      "cell_type": "markdown",
      "source": [],
      "metadata": {
        "id": "pYf-F9ceZpZL"
      }
    },
    {
      "cell_type": "code",
      "source": [
        "class Car:\n",
        "  fuel_type=\"petrol\"\n",
        "  number_of_wheels=4\n",
        "  doors=4\n",
        "\n",
        "  def __init__(self,name,model,year,enginee):\n",
        "    self.name=name\n",
        "    self.model=model\n",
        "    self.year=year\n",
        "    self.enginee=enginee\n",
        "\n",
        "  def show_details(self):\n",
        "    print(self.name)\n",
        "    print(self.model)\n",
        "    print(self.year)\n",
        "    print(self.enginee)\n",
        "    print(self.number_of_wheels)\n",
        "    print(self.fuel_type)\n",
        "\n",
        "  def start(self):\n",
        "    print(f\"{self.name} is started\")\n",
        "\n",
        "  def stop(self):\n",
        "    print(f\"{self.name} is stopped\")\n",
        "\n",
        "\n",
        "\n",
        "mehran =Car(\"Mehran\",\"XYZ\",2022,\"1300cc\")\n",
        "print(f\"Car Name :  {mehran.name}\")\n",
        "print(mehran.model)\n",
        "print(mehran.year)\n",
        "print(mehran.number_of_wheels)\n",
        "print(mehran.enginee)\n",
        "print(mehran.fuel_type)\n",
        "\n",
        "honda=Car(\"Honda\",\"XYZ\",2022,\"1000cc\")\n",
        "honda.show_details()\n",
        "honda.start()\n",
        "\n",
        "mehran.stop()\n"
      ],
      "metadata": {
        "colab": {
          "base_uri": "https://localhost:8080/"
        },
        "id": "lnAW2l_cZtou",
        "outputId": "26982e1d-be76-463a-fbdb-2cca4393e4d2"
      },
      "execution_count": 48,
      "outputs": [
        {
          "output_type": "stream",
          "name": "stdout",
          "text": [
            "Car Name :  Mehran\n",
            "XYZ\n",
            "2022\n",
            "4\n",
            "1300cc\n",
            "petrol\n",
            "Honda\n",
            "XYZ\n",
            "2022\n",
            "1000cc\n",
            "4\n",
            "petrol\n",
            "Honda is started\n",
            "Mehran is stopped\n"
          ]
        }
      ]
    }
  ]
}