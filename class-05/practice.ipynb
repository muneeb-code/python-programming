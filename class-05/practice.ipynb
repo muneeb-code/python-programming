{
  "nbformat": 4,
  "nbformat_minor": 0,
  "metadata": {
    "colab": {
      "provenance": [],
      "include_colab_link": true
    },
    "kernelspec": {
      "name": "python3",
      "display_name": "Python 3"
    },
    "language_info": {
      "name": "python"
    }
  },
  "cells": [
    {
      "cell_type": "markdown",
      "metadata": {
        "id": "view-in-github",
        "colab_type": "text"
      },
      "source": [
        "<a href=\"https://colab.research.google.com/github/muneeb-code/python-programming/blob/main/class-05/practice.ipynb\" target=\"_parent\"><img src=\"https://colab.research.google.com/assets/colab-badge.svg\" alt=\"Open In Colab\"/></a>"
      ]
    },
    {
      "cell_type": "code",
      "execution_count": null,
      "metadata": {
        "colab": {
          "base_uri": "https://localhost:8080/"
        },
        "id": "uUaq3yanp6TP",
        "outputId": "3f36b43b-6cfa-4c8f-e9a1-44a41ae4e6d8"
      },
      "outputs": [
        {
          "output_type": "stream",
          "name": "stdout",
          "text": [
            "3\n"
          ]
        }
      ],
      "source": [
        "mat = [\n",
        "    [1,2,3],\n",
        "    [4,5,6],\n",
        "    [7,8,9]\n",
        "]\n",
        "\n",
        "print(mat[0][2])\n",
        "\n"
      ]
    },
    {
      "cell_type": "code",
      "source": [
        "mat = [\n",
        "    [1,2,3],\n",
        "    [4,5,6],\n",
        "    [7,8,9]\n",
        "]\n",
        "for row  in mat:\n",
        "    for col in row:\n",
        "        col+=1\n",
        "        print(col)\n",
        "        print('+=========+')\n"
      ],
      "metadata": {
        "colab": {
          "base_uri": "https://localhost:8080/"
        },
        "id": "JxEHOusTs-Xm",
        "outputId": "933f1a86-3722-4b4e-c736-e55a3b087924"
      },
      "execution_count": 29,
      "outputs": [
        {
          "output_type": "stream",
          "name": "stdout",
          "text": [
            "2\n",
            "+=========+\n",
            "3\n",
            "+=========+\n",
            "4\n",
            "+=========+\n",
            "5\n",
            "+=========+\n",
            "6\n",
            "+=========+\n",
            "7\n",
            "+=========+\n",
            "8\n",
            "+=========+\n",
            "9\n",
            "+=========+\n",
            "10\n",
            "+=========+\n"
          ]
        }
      ]
    },
    {
      "cell_type": "markdown",
      "source": [
        "# Functions\n"
      ],
      "metadata": {
        "id": "Sko9OPSQuknu"
      }
    },
    {
      "cell_type": "code",
      "source": [
        "\n",
        "def login():\n",
        "  valid_user_name =\"usman\"\n",
        "  valid_user_password=\"123\"\n",
        "  number_of_attempts = 3\n",
        "  while number_of_attempts > 0:  # 0 > 0 -> flase\n",
        "    user_name = input(\"Enter your user name..\") # usman\n",
        "    user_Password = input(\"Enter your password...\") #123\n",
        "\n",
        "      # (usman ==  usman) true  and 123 == 123\n",
        "    if user_name == valid_user_name and user_Password == valid_user_password:\n",
        "      print(\"Login Successful\")\n",
        "      break\n",
        "    else:\n",
        "      print(\"Invalid Credentials\")\n",
        "\n",
        "    print(\"===========\")\n",
        "    number_of_attempts -= 1 #1 -1 = 0\n",
        "\n",
        "login()"
      ],
      "metadata": {
        "id": "ArNTbzNOu_rl",
        "colab": {
          "base_uri": "https://localhost:8080/"
        },
        "outputId": "dfbfaf98-2b99-4174-83e4-3a35c452024b"
      },
      "execution_count": 8,
      "outputs": [
        {
          "output_type": "stream",
          "name": "stdout",
          "text": [
            "Enter your user name..usman\n",
            "Enter your password...123\n",
            "Login Successful\n"
          ]
        }
      ]
    },
    {
      "cell_type": "markdown",
      "source": [],
      "metadata": {
        "id": "ETuXy0A-wXrN"
      }
    },
    {
      "cell_type": "code",
      "source": [
        "# print('Hi Rehan')\n",
        "# print('Hi Usman')\n",
        "# print('Hi Ibtisam')\n",
        "\n",
        "\n",
        "def greet(name: str):\n",
        "    print(f'Hi {name}')\n",
        "    # 100 lines of code\n",
        "\n",
        "greet(\"Rehan\")\n"
      ],
      "metadata": {
        "colab": {
          "base_uri": "https://localhost:8080/"
        },
        "id": "47JWVKglvJS0",
        "outputId": "6693c63e-e458-4f3f-8ff0-8b53c8a20a13"
      },
      "execution_count": 9,
      "outputs": [
        {
          "output_type": "stream",
          "name": "stdout",
          "text": [
            "Hi Rehan\n"
          ]
        }
      ]
    },
    {
      "cell_type": "code",
      "source": [
        "greet(\"Usman\")"
      ],
      "metadata": {
        "colab": {
          "base_uri": "https://localhost:8080/"
        },
        "id": "NbSAZzjMwdst",
        "outputId": "98adb424-3648-4dab-f5e6-5e33a9e5969e"
      },
      "execution_count": 10,
      "outputs": [
        {
          "output_type": "stream",
          "name": "stdout",
          "text": [
            "Hi Usman\n"
          ]
        }
      ]
    },
    {
      "cell_type": "code",
      "source": [
        "# define the function\n",
        "def add(a: int, b: int):\n",
        "    # code the logic here\n",
        "    resutl = a + b\n",
        "    print(resutl)\n",
        "\n",
        "\n",
        "\n",
        "# invoke the function\n",
        "add(5,6)"
      ],
      "metadata": {
        "colab": {
          "base_uri": "https://localhost:8080/"
        },
        "id": "ckTnfhTcySy9",
        "outputId": "6a1d5627-4fea-4692-9acd-178f0f8e3350"
      },
      "execution_count": null,
      "outputs": [
        {
          "output_type": "stream",
          "name": "stdout",
          "text": [
            "11\n"
          ]
        }
      ]
    },
    {
      "cell_type": "code",
      "source": [
        "#1. no input -> no output\n",
        "#2 input -> no output\n",
        "#3 no input -> output\n",
        "#4 input -> output"
      ],
      "metadata": {
        "id": "NV53g5nxzYwE"
      },
      "execution_count": null,
      "outputs": []
    },
    {
      "cell_type": "code",
      "source": [
        "# No Input -> No Output\n",
        "def multiply():\n",
        "    first_number = int(input(\"Enter first number: \"))\n",
        "    second_number = int(input(\"Enter second number: \"))\n",
        "    result = first_number * second_number\n",
        "    print(result)\n",
        "\n",
        "\n",
        "multiply()"
      ],
      "metadata": {
        "colab": {
          "base_uri": "https://localhost:8080/"
        },
        "id": "kgy55_jlzx09",
        "outputId": "3222a58f-d990-4c35-f6aa-3cd64cdf7af2"
      },
      "execution_count": 12,
      "outputs": [
        {
          "output_type": "stream",
          "name": "stdout",
          "text": [
            "Enter first number: 2\n",
            "Enter second number: 9\n",
            "18\n"
          ]
        }
      ]
    },
    {
      "cell_type": "code",
      "source": [
        "# Input -> No Output\n",
        "def multiply(a, b):\n",
        "    result = a * b\n",
        "    print(result)\n",
        "\n",
        "first_number = int(input(\"Enter first number: \"))\n",
        "second_number = int(input(\"Enter second number: \"))\n",
        "\n",
        "multiply(first_number, second_number)"
      ],
      "metadata": {
        "colab": {
          "base_uri": "https://localhost:8080/"
        },
        "id": "NBkOSmQx0tYt",
        "outputId": "d4cc8c49-31db-4412-a242-397d9087c10f"
      },
      "execution_count": 13,
      "outputs": [
        {
          "output_type": "stream",
          "name": "stdout",
          "text": [
            "Enter first number: 2\n",
            "Enter second number: 8\n",
            "16\n"
          ]
        }
      ]
    },
    {
      "cell_type": "code",
      "source": [
        "# No Input -> Output\n",
        "def multiply():\n",
        "    first_number = int(input(\"Enter first number: \"))\n",
        "    second_number = int(input(\"Enter second number: \"))\n",
        "    result = first_number * second_number\n",
        "    return result\n",
        "    # print(result)\n",
        "\n",
        "\n",
        "result = multiply() #20\n",
        "\n",
        "print(\"outside of function....\",result)"
      ],
      "metadata": {
        "colab": {
          "base_uri": "https://localhost:8080/"
        },
        "id": "rfGkui3B1L4d",
        "outputId": "6123f1b1-0a5b-452e-d58a-93e008962a6f"
      },
      "execution_count": 14,
      "outputs": [
        {
          "output_type": "stream",
          "name": "stdout",
          "text": [
            "Enter first number: 4\n",
            "Enter second number: 6\n",
            "outside of function.... 24\n"
          ]
        }
      ]
    },
    {
      "cell_type": "code",
      "source": [
        "#4 input -> output\n",
        "\n",
        "def multiply(a, b):\n",
        "    result = a * b\n",
        "    return result\n",
        "\n",
        "first_number = int(input(\"Enter first number: \"))\n",
        "second_number = int(input(\"Enter second number: \"))\n",
        "result = multiply(first_number, second_number) #20\n",
        "\n",
        "print(\"outside of function....\",result)"
      ],
      "metadata": {
        "id": "uKPNezqk4GSf",
        "colab": {
          "base_uri": "https://localhost:8080/"
        },
        "outputId": "7455d02d-db0a-41ba-92a0-a48ede59a53d"
      },
      "execution_count": 17,
      "outputs": [
        {
          "output_type": "stream",
          "name": "stdout",
          "text": [
            "Enter first number: 4\n",
            "Enter second number: 9\n",
            "outside of function.... 36\n"
          ]
        }
      ]
    },
    {
      "cell_type": "code",
      "source": [
        "# first add 3 and 7 then mulitiply the result with 34"
      ],
      "metadata": {
        "id": "cZuGmSN05Ezo"
      },
      "execution_count": null,
      "outputs": []
    },
    {
      "cell_type": "code",
      "source": [
        "def add(a, b):\n",
        "    # print (a + b)\n",
        "    return a + b\n",
        "\n",
        "\n",
        "def multiply(a,b):\n",
        "    return a * b\n",
        "\n",
        "\n",
        "result = add(3,7)\n",
        "\n",
        "mult_result = multiply(result,34)\n",
        "print (mult_result)"
      ],
      "metadata": {
        "colab": {
          "base_uri": "https://localhost:8080/"
        },
        "id": "AT456YqI5OJW",
        "outputId": "86d356ce-6e80-45ad-8794-63d797ecee64"
      },
      "execution_count": 31,
      "outputs": [
        {
          "output_type": "stream",
          "name": "stdout",
          "text": [
            "340\n"
          ]
        }
      ]
    },
    {
      "cell_type": "code",
      "source": [
        "def teacher_info(name: str, age: int):\n",
        "    print(f\"Hello {name}! Your age is {age}\")\n",
        "\n",
        "\n",
        "teacher_info(\"Rehan\", 30)"
      ],
      "metadata": {
        "colab": {
          "base_uri": "https://localhost:8080/"
        },
        "id": "vXp1Vl2974n-",
        "outputId": "bd58ebe8-1afc-444e-cabc-04d311056640"
      },
      "execution_count": 32,
      "outputs": [
        {
          "output_type": "stream",
          "name": "stdout",
          "text": [
            "Hello Rehan! Your age is 30\n"
          ]
        }
      ]
    },
    {
      "cell_type": "code",
      "source": [
        "teacher_info(18, 'Usman')"
      ],
      "metadata": {
        "colab": {
          "base_uri": "https://localhost:8080/"
        },
        "id": "kT12txib8N5d",
        "outputId": "d20fa92a-6018-4344-8434-1c0576c4a565"
      },
      "execution_count": 33,
      "outputs": [
        {
          "output_type": "stream",
          "name": "stdout",
          "text": [
            "Hello 18! Your age is Usman\n"
          ]
        }
      ]
    },
    {
      "cell_type": "code",
      "source": [
        "def teacher_info(name: str, age: int):\n",
        "    print(f\"Hello {name}! Your age is {age}\")\n",
        "\n",
        "\n",
        "teacher_info(\"Rehan\", 30)\n",
        "# teacher_info()"
      ],
      "metadata": {
        "colab": {
          "base_uri": "https://localhost:8080/"
        },
        "id": "3wyjvtrp9Nht",
        "outputId": "709e6d50-5611-4e20-dda3-431f7df2cab6"
      },
      "execution_count": 34,
      "outputs": [
        {
          "output_type": "stream",
          "name": "stdout",
          "text": [
            "Hello Rehan! Your age is 30\n"
          ]
        }
      ]
    },
    {
      "cell_type": "code",
      "source": [
        "teacher_info(age=18, name='Usman')"
      ],
      "metadata": {
        "colab": {
          "base_uri": "https://localhost:8080/"
        },
        "id": "bjZHHobk9ciN",
        "outputId": "a4186d8c-08cf-4200-c5fa-6662ec653387"
      },
      "execution_count": 35,
      "outputs": [
        {
          "output_type": "stream",
          "name": "stdout",
          "text": [
            "Hello Usman! Your age is 18\n"
          ]
        }
      ]
    },
    {
      "cell_type": "code",
      "source": [
        "def teacher_info(name='Test', age=12):\n",
        "    print(f\"Hello {name}! Your age is {age}\")\n",
        "\n",
        "\n",
        "teacher_info()\n",
        "teacher_info(\"Rehan\")"
      ],
      "metadata": {
        "colab": {
          "base_uri": "https://localhost:8080/"
        },
        "id": "F_WFCBo79-wX",
        "outputId": "b300a5f5-9c72-439c-df54-0d081f81ad9e"
      },
      "execution_count": 36,
      "outputs": [
        {
          "output_type": "stream",
          "name": "stdout",
          "text": [
            "Hello Test! Your age is 12\n",
            "Hello Rehan! Your age is 12\n"
          ]
        }
      ]
    },
    {
      "cell_type": "code",
      "source": [
        "teacher_info(age=18)"
      ],
      "metadata": {
        "colab": {
          "base_uri": "https://localhost:8080/"
        },
        "id": "y04FOdlg-pj1",
        "outputId": "e9568156-ad96-413f-fce4-d026dc040e7e"
      },
      "execution_count": 39,
      "outputs": [
        {
          "output_type": "stream",
          "name": "stdout",
          "text": [
            "Hello Test! Your age is 18\n"
          ]
        }
      ]
    },
    {
      "cell_type": "code",
      "source": [
        "teacher_info(name='Rehan')"
      ],
      "metadata": {
        "colab": {
          "base_uri": "https://localhost:8080/"
        },
        "id": "A1VBx0ZT-0-n",
        "outputId": "b32b4a68-8021-400f-b080-1d6438f40da4"
      },
      "execution_count": 40,
      "outputs": [
        {
          "output_type": "stream",
          "name": "stdout",
          "text": [
            "Hello Rehan! Your age is 12\n"
          ]
        }
      ]
    },
    {
      "cell_type": "code",
      "source": [
        "teacher_info('Rehan',30)"
      ],
      "metadata": {
        "colab": {
          "base_uri": "https://localhost:8080/"
        },
        "id": "6oEZfwGK-5VV",
        "outputId": "f801ba70-3f23-468d-f88c-bada42098431"
      },
      "execution_count": 41,
      "outputs": [
        {
          "output_type": "stream",
          "name": "stdout",
          "text": [
            "Hello Rehan! Your age is 30\n"
          ]
        }
      ]
    },
    {
      "cell_type": "code",
      "source": [
        "def simple_func(*names):\n",
        "    for name in names:\n",
        "        print(name)\n",
        "    print(type(names))\n",
        "\n",
        "simple_func(\"Rehan\",\"Usman\",\"Ibtisam\")"
      ],
      "metadata": {
        "colab": {
          "base_uri": "https://localhost:8080/"
        },
        "id": "ZHK6bf3jPHTb",
        "outputId": "36f93ce7-dd38-4f67-d2a3-da8f1925a738"
      },
      "execution_count": 42,
      "outputs": [
        {
          "output_type": "stream",
          "name": "stdout",
          "text": [
            "Rehan\n",
            "Usman\n",
            "Ibtisam\n",
            "<class 'tuple'>\n"
          ]
        }
      ]
    },
    {
      "cell_type": "code",
      "source": [
        "def simple_func(*names):\n",
        "    for name in names:\n",
        "        print(name)\n",
        "    print(type(names))\n",
        "\n",
        "names = [\"Rehan\", \"Usman\", \"Ibtisam\"]\n",
        "\n",
        "simple_func(*names) # list unpacking"
      ],
      "metadata": {
        "colab": {
          "base_uri": "https://localhost:8080/"
        },
        "id": "yXBGFDLjQY2j",
        "outputId": "33d67223-cfd8-4d94-a0e7-31e092c1235e"
      },
      "execution_count": null,
      "outputs": [
        {
          "output_type": "stream",
          "name": "stdout",
          "text": [
            "Rehan\n",
            "Usman\n",
            "Ibtisam\n",
            "<class 'tuple'>\n"
          ]
        }
      ]
    },
    {
      "cell_type": "code",
      "source": [
        "def simple_func(**kwargs):\n",
        "    for key, value in kwargs.items(): # (name,rehan  ),(age,4)\n",
        "        print(f\"{key} is {value}\")\n",
        "    print(type(kwargs))\n",
        "\n",
        "simple_func(name='Rehan', age=4)\n",
        "\n",
        "a,b=(3,4)\n",
        "print(a,b)"
      ],
      "metadata": {
        "colab": {
          "base_uri": "https://localhost:8080/"
        },
        "id": "eqFnQb6kRS-L",
        "outputId": "191d4341-b481-49d8-b789-1e3e3c2c1a98"
      },
      "execution_count": 44,
      "outputs": [
        {
          "output_type": "stream",
          "name": "stdout",
          "text": [
            "name is Rehan\n",
            "age is 4\n",
            "<class 'dict'>\n"
          ]
        }
      ]
    },
    {
      "cell_type": "code",
      "source": [
        "def simple_func(**kwargs):\n",
        "    for arg in args:\n",
        "        print(name)\n",
        "    print(type(names))\n",
        "\n",
        "names = [\"Rehan\", \"Usman\", \"Ibtisam\"]\n",
        "\n",
        "simple_func(*names)"
      ],
      "metadata": {
        "id": "QxLF6aXBQ6eb",
        "colab": {
          "base_uri": "https://localhost:8080/",
          "height": 176
        },
        "outputId": "232114d7-03a8-4791-826d-a83cac619aa7"
      },
      "execution_count": 46,
      "outputs": [
        {
          "output_type": "error",
          "ename": "TypeError",
          "evalue": "simple_func() takes 0 positional arguments but 3 were given",
          "traceback": [
            "\u001b[0;31m---------------------------------------------------------------------------\u001b[0m",
            "\u001b[0;31mTypeError\u001b[0m                                 Traceback (most recent call last)",
            "\u001b[0;32m<ipython-input-46-8bc8ffa5cded>\u001b[0m in \u001b[0;36m<cell line: 0>\u001b[0;34m()\u001b[0m\n\u001b[1;32m      6\u001b[0m \u001b[0mnames\u001b[0m \u001b[0;34m=\u001b[0m \u001b[0;34m[\u001b[0m\u001b[0;34m\"Rehan\"\u001b[0m\u001b[0;34m,\u001b[0m \u001b[0;34m\"Usman\"\u001b[0m\u001b[0;34m,\u001b[0m \u001b[0;34m\"Ibtisam\"\u001b[0m\u001b[0;34m]\u001b[0m\u001b[0;34m\u001b[0m\u001b[0;34m\u001b[0m\u001b[0m\n\u001b[1;32m      7\u001b[0m \u001b[0;34m\u001b[0m\u001b[0m\n\u001b[0;32m----> 8\u001b[0;31m \u001b[0msimple_func\u001b[0m\u001b[0;34m(\u001b[0m\u001b[0;34m*\u001b[0m\u001b[0mnames\u001b[0m\u001b[0;34m)\u001b[0m\u001b[0;34m\u001b[0m\u001b[0;34m\u001b[0m\u001b[0m\n\u001b[0m",
            "\u001b[0;31mTypeError\u001b[0m: simple_func() takes 0 positional arguments but 3 were given"
          ]
        }
      ]
    },
    {
      "cell_type": "markdown",
      "source": [
        "## Scope in Function"
      ],
      "metadata": {
        "id": "SvuXRmb1ENXK"
      }
    },
    {
      "cell_type": "code",
      "source": [
        "def greetings (name):\n",
        "    name = 'Rehan' # scope is local\n",
        "    print (f\"Hello {name}\")\n",
        "\n",
        "name = 'Usman' # scope is global\n",
        "\n",
        "greetings(name)\n",
        "\n",
        "print(name) # Usman\n"
      ],
      "metadata": {
        "colab": {
          "base_uri": "https://localhost:8080/"
        },
        "id": "akik3Jz9EQgJ",
        "outputId": "1188bf2b-4a77-46f5-ec70-bfce4b9252a8"
      },
      "execution_count": 48,
      "outputs": [
        {
          "output_type": "stream",
          "name": "stdout",
          "text": [
            "Hello Rehan\n",
            "Usman\n"
          ]
        }
      ]
    },
    {
      "cell_type": "code",
      "source": [
        "def check_list (sample_list: list):\n",
        "    sample_list.append(4)\n",
        "    print(sample_list) # [1,2,3,4]\n",
        "\n",
        "\n",
        "sample_list = [1,2,3]\n",
        "\n",
        "print(sample_list)\n",
        "check_list(sample_list)\n"
      ],
      "metadata": {
        "colab": {
          "base_uri": "https://localhost:8080/"
        },
        "id": "nWes9eC9E9Ra",
        "outputId": "264a11f1-2f9b-4dd4-e828-0f59ccdabe40"
      },
      "execution_count": 50,
      "outputs": [
        {
          "output_type": "stream",
          "name": "stdout",
          "text": [
            "[1, 2, 3]\n",
            "[1, 2, 3, 4]\n"
          ]
        }
      ]
    },
    {
      "cell_type": "code",
      "source": [
        "def check_list (l: list):\n",
        "    l.append(4)\n",
        "    print(l) # [1,2,3,4]\n",
        "\n",
        "\n",
        "sample_list = [1,2,3]\n",
        "\n",
        "check_list(sample_list)\n",
        "\n",
        "print(sample_list)"
      ],
      "metadata": {
        "colab": {
          "base_uri": "https://localhost:8080/"
        },
        "id": "7FzV66-tGNxT",
        "outputId": "8c1d53c9-3999-4e18-d95a-6209e2ff2847"
      },
      "execution_count": null,
      "outputs": [
        {
          "output_type": "stream",
          "name": "stdout",
          "text": [
            "[1, 2, 3, 4]\n",
            "[1, 2, 3, 4]\n"
          ]
        }
      ]
    },
    {
      "cell_type": "code",
      "source": [
        "# global\n",
        "\n",
        "\n",
        "def greetings(n):\n",
        "    global name\n",
        "    name = 'Rehan'\n",
        "    print(f\"Inside the Function {name}\")\n",
        "\n",
        "name = 'Usman'\n",
        "print(name)\n",
        "\n",
        "greetings(name)\n",
        "\n",
        "print(f\"Outside of function {name}\")\n"
      ],
      "metadata": {
        "colab": {
          "base_uri": "https://localhost:8080/"
        },
        "id": "n4YvgCnsIYMD",
        "outputId": "66c79111-c443-4c3b-906f-e2f47cf31fa3"
      },
      "execution_count": null,
      "outputs": [
        {
          "output_type": "stream",
          "name": "stdout",
          "text": [
            "Usman\n",
            "Inside the Function Rehan\n",
            "Outside of function Rehan\n"
          ]
        }
      ]
    },
    {
      "cell_type": "markdown",
      "source": [
        "# Factorial\n",
        "\n",
        "3! = 1x2x3\n",
        "5! = 1x2x3x4x5"
      ],
      "metadata": {
        "id": "zFQmWLppJoZq"
      }
    },
    {
      "cell_type": "code",
      "source": [
        "def factorial(n):\n",
        "    if n < 0:\n",
        "        return None\n",
        "    if n < 2:\n",
        "        return 1\n",
        "    else:\n",
        "        result = 1 #120\n",
        "        for i in range(2,n+1): #2, 3, 4, 5\n",
        "            result *= i   # 120\n",
        "        return result\n",
        "print(factorial(6)) # Output: 120\n"
      ],
      "metadata": {
        "colab": {
          "base_uri": "https://localhost:8080/"
        },
        "id": "SLSiiWgAJn-q",
        "outputId": "4e1ebf02-0916-4d06-e1d5-ba6c03627725"
      },
      "execution_count": null,
      "outputs": [
        {
          "output_type": "stream",
          "name": "stdout",
          "text": [
            "720\n"
          ]
        }
      ]
    },
    {
      "cell_type": "markdown",
      "source": [
        "For Recursion: It is important to add base case in recursion"
      ],
      "metadata": {
        "id": "Uqpmlp9sLOa6"
      }
    },
    {
      "cell_type": "code",
      "source": [
        "def factorial(n): # 1\n",
        "    # Base case\n",
        "    if n < 0:\n",
        "        return None\n",
        "    if n < 2:   # n=1  --> 1\n",
        "        return 1\n",
        "    # Recursive case\n",
        "    return n * factorial(n - 1)  # 5 * 4 * 3 * 2  * 1\n",
        "\n",
        "print(factorial(6))  # Output: 120"
      ],
      "metadata": {
        "colab": {
          "base_uri": "https://localhost:8080/"
        },
        "id": "9DhbawseLLua",
        "outputId": "019eee4d-e0a8-4c3c-9387-e25d30890627"
      },
      "execution_count": 51,
      "outputs": [
        {
          "output_type": "stream",
          "name": "stdout",
          "text": [
            "720\n"
          ]
        }
      ]
    },
    {
      "cell_type": "code",
      "source": [
        "# prompt: add lambda function in below example wihout adding map\n",
        "\n",
        "result = (lambda a, b: a * b)(4, 6)\n",
        "result"
      ],
      "metadata": {
        "colab": {
          "base_uri": "https://localhost:8080/"
        },
        "id": "_nn9RpduMu4y",
        "outputId": "4b972de6-b677-4bd8-d508-95ce761891f1"
      },
      "execution_count": 57,
      "outputs": [
        {
          "output_type": "execute_result",
          "data": {
            "text/plain": [
              "24"
            ]
          },
          "metadata": {},
          "execution_count": 57
        }
      ]
    },
    {
      "cell_type": "code",
      "source": [
        "# A lambda function that adds 10 to a number\n",
        "add_ten = lambda x: x + 10\n",
        "\n",
        "# Call the lambda function\n",
        "print(add_ten(5))  # Output: 15"
      ],
      "metadata": {
        "colab": {
          "base_uri": "https://localhost:8080/"
        },
        "id": "heNlxiU_OBH6",
        "outputId": "9395a28d-b73f-4d43-96da-59aeed9e0ae4"
      },
      "execution_count": 58,
      "outputs": [
        {
          "output_type": "stream",
          "name": "stdout",
          "text": [
            "15\n"
          ]
        }
      ]
    },
    {
      "cell_type": "code",
      "source": [
        "# prompt: add example of map with lambda function\n",
        "\n",
        "# Map with a lambda function\n",
        "numbers = [1, 2, 3, 4, 5]\n",
        "squared_numbers = list(map(lambda x: x**2, numbers))\n",
        "squared_numbers"
      ],
      "metadata": {
        "colab": {
          "base_uri": "https://localhost:8080/"
        },
        "id": "LiB2V_qNOhWi",
        "outputId": "d815e01a-0604-4b2a-ba28-a15ff132eec7"
      },
      "execution_count": null,
      "outputs": [
        {
          "output_type": "execute_result",
          "data": {
            "text/plain": [
              "[1, 4, 9, 16, 25]"
            ]
          },
          "metadata": {},
          "execution_count": 54
        }
      ]
    }
  ]
}