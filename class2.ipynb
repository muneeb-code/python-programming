{
  "cells": [
    {
      "cell_type": "markdown",
      "metadata": {
        "id": "view-in-github",
        "colab_type": "text"
      },
      "source": [
        "<a href=\"https://colab.research.google.com/github/muneeb-code/python-programming/blob/main/class2.ipynb\" target=\"_parent\"><img src=\"https://colab.research.google.com/assets/colab-badge.svg\" alt=\"Open In Colab\"/></a>"
      ]
    },
    {
      "cell_type": "code",
      "source": [
        "str1=\"Hello\"\n",
        "str2=\"World\"\n",
        "print(str1+\" \"+str2)"
      ],
      "metadata": {
        "id": "YW692xufHrCW",
        "outputId": "713c2d36-8f83-4ba5-e62d-55c44b67be94",
        "colab": {
          "base_uri": "https://localhost:8080/"
        }
      },
      "execution_count": null,
      "outputs": [
        {
          "output_type": "stream",
          "name": "stdout",
          "text": [
            "Hello World\n"
          ]
        }
      ]
    },
    {
      "cell_type": "code",
      "source": [
        "str1=\"Hello\"\n",
        "result=str1*3\n",
        "print(result)"
      ],
      "metadata": {
        "id": "ltypbmpnI9aN",
        "outputId": "ceba5d41-32c2-4df8-ddf1-8fd4df2a03dd",
        "colab": {
          "base_uri": "https://localhost:8080/"
        }
      },
      "execution_count": null,
      "outputs": [
        {
          "output_type": "stream",
          "name": "stdout",
          "text": [
            "HelloHelloHello\n"
          ]
        }
      ]
    },
    {
      "cell_type": "code",
      "source": [
        "str1=\"Hello World\"\n",
        "print('Hello' in str1)\n",
        "print(\"python\" not in str1)"
      ],
      "metadata": {
        "id": "mkStMcm7YQ0l",
        "outputId": "0a8f0e51-5816-4bbc-f323-b463b475b7af",
        "colab": {
          "base_uri": "https://localhost:8080/"
        }
      },
      "execution_count": null,
      "outputs": [
        {
          "output_type": "stream",
          "name": "stdout",
          "text": [
            "True\n",
            "True\n"
          ]
        }
      ]
    },
    {
      "cell_type": "code",
      "source": [
        "str1=\"Hello World\"\n",
        "print(len(str1))"
      ],
      "metadata": {
        "id": "ovrt3tmRa9WL",
        "outputId": "1261fcf3-adc6-49d1-dcee-e79ea3a4ebb1",
        "colab": {
          "base_uri": "https://localhost:8080/"
        }
      },
      "execution_count": null,
      "outputs": [
        {
          "output_type": "stream",
          "name": "stdout",
          "text": [
            "11\n"
          ]
        }
      ]
    },
    {
      "cell_type": "code",
      "source": [
        "str1=\"Hello World\"\n",
        "print(str1[0])\n",
        "print(str1[-1])"
      ],
      "metadata": {
        "id": "NlxGOAgEbxdg",
        "outputId": "2591132a-55a8-42ca-add9-3ff92b71ef6d",
        "colab": {
          "base_uri": "https://localhost:8080/"
        }
      },
      "execution_count": null,
      "outputs": [
        {
          "output_type": "stream",
          "name": "stdout",
          "text": [
            "H\n",
            "d\n"
          ]
        }
      ]
    },
    {
      "cell_type": "code",
      "source": [
        "name=\"muneeb\"\n",
        "age=22\n",
        "print(f\"my name is {name} and i am {age} years old\")\n",
        "print(\"my name is {} and i am {} years old\".format(name,age))\n",
        "print(\"my name is %s and i am %d years old.\" % (name, age))\n",
        "\n"
      ],
      "metadata": {
        "colab": {
          "base_uri": "https://localhost:8080/"
        },
        "id": "-FPSt8aE81BD",
        "outputId": "c2e97fd1-98a7-4ae4-bd00-38a16fb5869c"
      },
      "execution_count": 12,
      "outputs": [
        {
          "output_type": "stream",
          "name": "stdout",
          "text": [
            "my name is muneeb and i am 22 years old\n",
            "my name is muneeb and i am 22 years old\n",
            "my name is muneeb and i am 22 years old.\n"
          ]
        }
      ]
    },
    {
      "cell_type": "code",
      "source": [
        "number = 255\n",
        "formatted_string = \"The hexadecimal representation of %d is %x\" % (number, number)\n",
        "print(formatted_string)"
      ],
      "metadata": {
        "colab": {
          "base_uri": "https://localhost:8080/"
        },
        "id": "rww9oF8REaH-",
        "outputId": "751b8511-869a-40f7-daf4-e07e724a5d9c"
      },
      "execution_count": 14,
      "outputs": [
        {
          "output_type": "stream",
          "name": "stdout",
          "text": [
            "The hexadecimal representation of 255 is ff\n"
          ]
        }
      ]
    },
    {
      "cell_type": "code",
      "source": [
        "char_code = 70\n",
        "formatted_string = \"The character for ASCII code %d is %c\" % (char_code, char_code)\n",
        "print(formatted_string)"
      ],
      "metadata": {
        "colab": {
          "base_uri": "https://localhost:8080/"
        },
        "id": "Ob_h5hh5FYhz",
        "outputId": "3b0eaa16-81c4-4233-a9b0-3cdb6e8bb4a7"
      },
      "execution_count": 18,
      "outputs": [
        {
          "output_type": "stream",
          "name": "stdout",
          "text": [
            "The character for ASCII code 70 is F\n"
          ]
        }
      ]
    },
    {
      "cell_type": "code",
      "source": [
        "greetings='Rehan\\bgreetings'\n",
        "print(greetings)"
      ],
      "metadata": {
        "colab": {
          "base_uri": "https://localhost:8080/"
        },
        "id": "9eahEmGqJ7DK",
        "outputId": "0e7a8796-114f-4859-d329-01843ebb3c43"
      },
      "execution_count": 22,
      "outputs": [
        {
          "output_type": "stream",
          "name": "stdout",
          "text": [
            "Rehan\bgreetings\n"
          ]
        }
      ]
    },
    {
      "cell_type": "code",
      "source": [
        "result = 'rehan \\\n",
        "is'\n",
        "print(result)"
      ],
      "metadata": {
        "colab": {
          "base_uri": "https://localhost:8080/"
        },
        "id": "gXH9Z25AKn3A",
        "outputId": "c689b695-b99f-42cd-882c-92730669c6f6"
      },
      "execution_count": 25,
      "outputs": [
        {
          "output_type": "stream",
          "name": "stdout",
          "text": [
            "rehan is\n"
          ]
        }
      ]
    },
    {
      "cell_type": "code",
      "source": [
        "name=\"Muneeb\"\n",
        "greetings=\"Hello\"\n",
        "print(f\"Hello {name}\")"
      ],
      "metadata": {
        "colab": {
          "base_uri": "https://localhost:8080/"
        },
        "id": "_1ZAn-JDNG6w",
        "outputId": "2aff0a54-53bf-4814-9ca4-fdde8bd3b0b1"
      },
      "execution_count": 45,
      "outputs": [
        {
          "output_type": "stream",
          "name": "stdout",
          "text": [
            "Hello Muneeb\n"
          ]
        }
      ]
    },
    {
      "cell_type": "code",
      "source": [
        "name=\"Muneeb\"\n",
        "print(f\"Type is : {type(name)}\")\n",
        "print(f\"Dir is : {dir(name)}\")\n",
        "print(f\"Id is : {id(name)}\")"
      ],
      "metadata": {
        "colab": {
          "base_uri": "https://localhost:8080/"
        },
        "id": "KalasvkDQNpV",
        "outputId": "c1d03921-a33b-4bdc-e6bc-d4ef518186dc"
      },
      "execution_count": 48,
      "outputs": [
        {
          "output_type": "stream",
          "name": "stdout",
          "text": [
            "Type is : <class 'str'>\n",
            "Dir is : ['__add__', '__class__', '__contains__', '__delattr__', '__dir__', '__doc__', '__eq__', '__format__', '__ge__', '__getattribute__', '__getitem__', '__getnewargs__', '__getstate__', '__gt__', '__hash__', '__init__', '__init_subclass__', '__iter__', '__le__', '__len__', '__lt__', '__mod__', '__mul__', '__ne__', '__new__', '__reduce__', '__reduce_ex__', '__repr__', '__rmod__', '__rmul__', '__setattr__', '__sizeof__', '__str__', '__subclasshook__', 'capitalize', 'casefold', 'center', 'count', 'encode', 'endswith', 'expandtabs', 'find', 'format', 'format_map', 'index', 'isalnum', 'isalpha', 'isascii', 'isdecimal', 'isdigit', 'isidentifier', 'islower', 'isnumeric', 'isprintable', 'isspace', 'istitle', 'isupper', 'join', 'ljust', 'lower', 'lstrip', 'maketrans', 'partition', 'removeprefix', 'removesuffix', 'replace', 'rfind', 'rindex', 'rjust', 'rpartition', 'rsplit', 'rstrip', 'split', 'splitlines', 'startswith', 'strip', 'swapcase', 'title', 'translate', 'upper', 'zfill']\n",
            "Id is : 133804324980016\n"
          ]
        }
      ]
    },
    {
      "cell_type": "code",
      "source": [
        "name1=\"Muneeb\"\n",
        "name2=\"Muneeb\"\n",
        "print(id(name1))\n",
        "print(id(name2))"
      ],
      "metadata": {
        "colab": {
          "base_uri": "https://localhost:8080/"
        },
        "id": "OQKd4BUpUrSc",
        "outputId": "7be43336-90f1-4266-c2ee-b190f8e8fa57"
      },
      "execution_count": 57,
      "outputs": [
        {
          "output_type": "stream",
          "name": "stdout",
          "text": [
            "133804324980016\n",
            "133804324980016\n"
          ]
        }
      ]
    },
    {
      "cell_type": "code",
      "source": [
        "name=\"Rehan\"\n",
        "print(id(name))\n",
        "\n",
        "name=\"usman\"\n",
        "print(id(name))"
      ],
      "metadata": {
        "colab": {
          "base_uri": "https://localhost:8080/"
        },
        "id": "Zp-P9toeZ688",
        "outputId": "ea12f6a7-2486-40c8-e128-28a53058f353"
      },
      "execution_count": 58,
      "outputs": [
        {
          "output_type": "stream",
          "name": "stdout",
          "text": [
            "133804324468400\n",
            "133804324279472\n"
          ]
        }
      ]
    },
    {
      "cell_type": "code",
      "source": [
        "# Mutable Variables\n",
        "name_list=[\"musa\",\"hadia\"]\n",
        "print(id(name_list))\n",
        "name_list.append(\"muneeb\")\n",
        "print(id(name_list))\n",
        "print(name_list)"
      ],
      "metadata": {
        "colab": {
          "base_uri": "https://localhost:8080/"
        },
        "id": "V76WAaYlbO1p",
        "outputId": "28939327-7a53-42dc-b9aa-bade0b2872bb"
      },
      "execution_count": 62,
      "outputs": [
        {
          "output_type": "stream",
          "name": "stdout",
          "text": [
            "133804324999232\n",
            "133804324999232\n",
            "['musa', 'hadia', 'muneeb']\n"
          ]
        }
      ]
    },
    {
      "cell_type": "code",
      "source": [
        "print(name_list[0])\n",
        "print(name_list[-1])\n",
        "print(len(name_list))"
      ],
      "metadata": {
        "colab": {
          "base_uri": "https://localhost:8080/"
        },
        "id": "MdkVo7JSdq6w",
        "outputId": "92d7ffd0-d962-493c-9089-239b18bade37"
      },
      "execution_count": 65,
      "outputs": [
        {
          "output_type": "stream",
          "name": "stdout",
          "text": [
            "musa\n",
            "muneeb\n",
            "3\n"
          ]
        }
      ]
    },
    {
      "cell_type": "code",
      "source": [
        "dir(name_list)"
      ],
      "metadata": {
        "colab": {
          "base_uri": "https://localhost:8080/"
        },
        "id": "jwxi7xlKebOC",
        "outputId": "29e98757-5eeb-450e-d9fa-0a5b57d35940"
      },
      "execution_count": 66,
      "outputs": [
        {
          "output_type": "execute_result",
          "data": {
            "text/plain": [
              "['__add__',\n",
              " '__class__',\n",
              " '__class_getitem__',\n",
              " '__contains__',\n",
              " '__delattr__',\n",
              " '__delitem__',\n",
              " '__dir__',\n",
              " '__doc__',\n",
              " '__eq__',\n",
              " '__format__',\n",
              " '__ge__',\n",
              " '__getattribute__',\n",
              " '__getitem__',\n",
              " '__getstate__',\n",
              " '__gt__',\n",
              " '__hash__',\n",
              " '__iadd__',\n",
              " '__imul__',\n",
              " '__init__',\n",
              " '__init_subclass__',\n",
              " '__iter__',\n",
              " '__le__',\n",
              " '__len__',\n",
              " '__lt__',\n",
              " '__mul__',\n",
              " '__ne__',\n",
              " '__new__',\n",
              " '__reduce__',\n",
              " '__reduce_ex__',\n",
              " '__repr__',\n",
              " '__reversed__',\n",
              " '__rmul__',\n",
              " '__setattr__',\n",
              " '__setitem__',\n",
              " '__sizeof__',\n",
              " '__str__',\n",
              " '__subclasshook__',\n",
              " 'append',\n",
              " 'clear',\n",
              " 'copy',\n",
              " 'count',\n",
              " 'extend',\n",
              " 'index',\n",
              " 'insert',\n",
              " 'pop',\n",
              " 'remove',\n",
              " 'reverse',\n",
              " 'sort']"
            ]
          },
          "metadata": {},
          "execution_count": 66
        }
      ]
    },
    {
      "cell_type": "code",
      "source": [
        "name_list.insert(1,\"Ali\")\n",
        "print(name_list)"
      ],
      "metadata": {
        "colab": {
          "base_uri": "https://localhost:8080/"
        },
        "id": "HIggtsUihUoV",
        "outputId": "794816cc-933c-478f-d5e5-449107f48f84"
      },
      "execution_count": 67,
      "outputs": [
        {
          "output_type": "stream",
          "name": "stdout",
          "text": [
            "['musa', 'Ali', 'hadia', 'muneeb']\n"
          ]
        }
      ]
    },
    {
      "cell_type": "code",
      "source": [
        "name_list.remove(\"Ali\")\n",
        "print(name_list)"
      ],
      "metadata": {
        "colab": {
          "base_uri": "https://localhost:8080/"
        },
        "id": "6vGOpgPehtSC",
        "outputId": "84b37ea4-3116-4a61-a7c0-86c013829463"
      },
      "execution_count": 68,
      "outputs": [
        {
          "output_type": "stream",
          "name": "stdout",
          "text": [
            "['musa', 'hadia', 'muneeb']\n"
          ]
        }
      ]
    },
    {
      "cell_type": "code",
      "source": [
        "poped_val= name_list.pop()\n",
        "print(poped_val)\n",
        "print(name_list)"
      ],
      "metadata": {
        "colab": {
          "base_uri": "https://localhost:8080/"
        },
        "id": "pFBQjs_fiJtz",
        "outputId": "6d74c2d4-ab1f-421b-b4f9-166f794d727d"
      },
      "execution_count": 71,
      "outputs": [
        {
          "output_type": "stream",
          "name": "stdout",
          "text": [
            "hadia\n",
            "['musa']\n"
          ]
        }
      ]
    },
    {
      "cell_type": "code",
      "source": [
        "teacher_names = [\"Rehan\", \"Usman\", \"Ibtisam\", \"Sir Zia\"]\n",
        "print(teacher_names[1:3])"
      ],
      "metadata": {
        "colab": {
          "base_uri": "https://localhost:8080/"
        },
        "id": "icpWKxHnkCvD",
        "outputId": "49389f00-ae88-42a9-9d3c-c9b97f5803bd"
      },
      "execution_count": 75,
      "outputs": [
        {
          "output_type": "stream",
          "name": "stdout",
          "text": [
            "['Usman', 'Ibtisam']\n",
            "['Ibtisam', 'Sir Zia']\n"
          ]
        }
      ]
    },
    {
      "cell_type": "code",
      "source": [
        "best_teachers = teacher_names[2:4]\n",
        "print(best_teachers)"
      ],
      "metadata": {
        "colab": {
          "base_uri": "https://localhost:8080/"
        },
        "id": "qHULwJCrk-US",
        "outputId": "e40698ad-12cd-42d8-fd4a-b32d3fbbc509"
      },
      "execution_count": 76,
      "outputs": [
        {
          "output_type": "stream",
          "name": "stdout",
          "text": [
            "['Ibtisam', 'Sir Zia']\n"
          ]
        }
      ]
    },
    {
      "cell_type": "code",
      "source": [
        "print(\"Python Programming in \\\"PIAIC\\\"\")\n",
        "print(\"Python Programming in \\\\PIAIC\")\n",
        "print(\"Python Programming in \\nPIAIC\")\n",
        "print(\"Python Programming in \\tPIAIC\")\n",
        "print(\"Python Programming in PIAIC\\rpiaic\")\n",
        "print(\"Python Programming in a\\bPIAIC\")\n",
        "print(\"Python Programming in \\aPIAIC\")"
      ],
      "metadata": {
        "colab": {
          "base_uri": "https://localhost:8080/"
        },
        "id": "aHjip_6nl44n",
        "outputId": "73745aeb-003f-44b5-90d8-1589f8d219fd"
      },
      "execution_count": 79,
      "outputs": [
        {
          "output_type": "stream",
          "name": "stdout",
          "text": [
            "Python Programming in \"PIAIC\"\n",
            "Python Programming in \\PIAIC\n",
            "Python Programming in \n",
            "PIAIC\n",
            "Python Programming in \tPIAIC\n",
            "Python Programming in PIAIC\rpiaic\n",
            "Python Programming in a\bPIAIC\n",
            "Python Programming in \u0007PIAIC\n"
          ]
        }
      ]
    },
    {
      "cell_type": "code",
      "source": [
        "pi = 3.14159\n",
        "formatted_string = \"The value of pi is approximately %.3f\" % pi\n",
        "print(formatted_string)  # Output: \"The value of pi is approximately 3.14\""
      ],
      "metadata": {
        "colab": {
          "base_uri": "https://localhost:8080/"
        },
        "id": "HL_UCN9bocMY",
        "outputId": "b7aa97db-9093-45bf-f17e-c6a79a6e0f93"
      },
      "execution_count": 81,
      "outputs": [
        {
          "output_type": "stream",
          "name": "stdout",
          "text": [
            "The value of pi is approximately 3.142\n"
          ]
        }
      ]
    },
    {
      "cell_type": "code",
      "source": [
        "number = 255\n",
        "formatted_string = \"The octal representation of %d is %o\" % (number, number)\n",
        "print(formatted_string)  # Output: \"The octal representation of 255 is 377\""
      ],
      "metadata": {
        "colab": {
          "base_uri": "https://localhost:8080/"
        },
        "id": "H6xZwHn-oqEF",
        "outputId": "ecff0621-3a46-4d50-bf5e-f841602901c5"
      },
      "execution_count": 82,
      "outputs": [
        {
          "output_type": "stream",
          "name": "stdout",
          "text": [
            "The octal representation of 255 is 377\n"
          ]
        }
      ]
    },
    {
      "cell_type": "code",
      "source": [
        "number = 255\n",
        "formatted_string = \"The hexadecimal representation of %d is %x\" % (number, number)\n",
        "print(formatted_string)  # Output: \"The hexadecimal representation of 255 is ff\""
      ],
      "metadata": {
        "colab": {
          "base_uri": "https://localhost:8080/"
        },
        "id": "l_cgV5OUo6Gl",
        "outputId": "2b9de10c-0bcc-448c-df39-8d1808f8c0d8"
      },
      "execution_count": 83,
      "outputs": [
        {
          "output_type": "stream",
          "name": "stdout",
          "text": [
            "The hexadecimal representation of 255 is ff\n"
          ]
        }
      ]
    },
    {
      "cell_type": "code",
      "source": [
        "large_number = 25000\n",
        "formatted_string = \"The scientific notation of %d is %e\" % (large_number, large_number)\n",
        "print(formatted_string)  # Output: \"The scientific notation of 25000 is 2.500000e+04\""
      ],
      "metadata": {
        "colab": {
          "base_uri": "https://localhost:8080/"
        },
        "id": "m2GCkGW1pQHM",
        "outputId": "2ef2051d-d489-402b-c4bc-b78d62da4c22"
      },
      "execution_count": 84,
      "outputs": [
        {
          "output_type": "stream",
          "name": "stdout",
          "text": [
            "The scientific notation of 25000 is 2.500000e+04\n"
          ]
        }
      ]
    },
    {
      "cell_type": "code",
      "source": [
        "char_code = 65\n",
        "formatted_string = \"The character for ASCII code %d is %c\" % (char_code, char_code)\n",
        "print(formatted_string)  # Output: \"The character for ASCII code 65 is A\""
      ],
      "metadata": {
        "colab": {
          "base_uri": "https://localhost:8080/"
        },
        "id": "dcOTlIHspiji",
        "outputId": "b338bb41-57fc-4122-c834-1164654dce20"
      },
      "execution_count": 85,
      "outputs": [
        {
          "output_type": "stream",
          "name": "stdout",
          "text": [
            "The character for ASCII code 65 is A\n"
          ]
        }
      ]
    },
    {
      "cell_type": "code",
      "source": [
        "text = \"Hello\\nWorld\"\n",
        "formatted_string = \"Raw representation: %r\" % text\n",
        "print(formatted_string)  # Output: \"Raw representation: 'Hello\\\\nWorld'\""
      ],
      "metadata": {
        "colab": {
          "base_uri": "https://localhost:8080/"
        },
        "id": "I0G8WXxPppIn",
        "outputId": "043473d8-c7c5-4cd8-fb97-f001032875f8"
      },
      "execution_count": 86,
      "outputs": [
        {
          "output_type": "stream",
          "name": "stdout",
          "text": [
            "Raw representation: 'Hello\\nWorld'\n"
          ]
        }
      ]
    },
    {
      "cell_type": "code",
      "source": [
        "w = True\n",
        "x = 5\n",
        "y = 3.0\n",
        "z = \"Hello\"\n",
        "\n",
        "print(type(w))\n",
        "print(type(x))\n",
        "print(type(y))\n",
        "print(type(z))\n",
        "\n",
        "print(dir(w))\n",
        "print(dir(x))\n",
        "print(dir(y))\n",
        "print(dir(z))\n",
        "\n",
        "print(id(w))\n",
        "print(id(x))\n",
        "print(id(y))\n",
        "print(id(z))"
      ],
      "metadata": {
        "colab": {
          "base_uri": "https://localhost:8080/"
        },
        "id": "PB-g69cdrJyn",
        "outputId": "88769f68-b2d3-46de-c2ab-69f90ce50ff2"
      },
      "execution_count": 87,
      "outputs": [
        {
          "output_type": "stream",
          "name": "stdout",
          "text": [
            "<class 'bool'>\n",
            "<class 'int'>\n",
            "<class 'float'>\n",
            "<class 'str'>\n",
            "['__abs__', '__add__', '__and__', '__bool__', '__ceil__', '__class__', '__delattr__', '__dir__', '__divmod__', '__doc__', '__eq__', '__float__', '__floor__', '__floordiv__', '__format__', '__ge__', '__getattribute__', '__getnewargs__', '__getstate__', '__gt__', '__hash__', '__index__', '__init__', '__init_subclass__', '__int__', '__invert__', '__le__', '__lshift__', '__lt__', '__mod__', '__mul__', '__ne__', '__neg__', '__new__', '__or__', '__pos__', '__pow__', '__radd__', '__rand__', '__rdivmod__', '__reduce__', '__reduce_ex__', '__repr__', '__rfloordiv__', '__rlshift__', '__rmod__', '__rmul__', '__ror__', '__round__', '__rpow__', '__rrshift__', '__rshift__', '__rsub__', '__rtruediv__', '__rxor__', '__setattr__', '__sizeof__', '__str__', '__sub__', '__subclasshook__', '__truediv__', '__trunc__', '__xor__', 'as_integer_ratio', 'bit_count', 'bit_length', 'conjugate', 'denominator', 'from_bytes', 'imag', 'numerator', 'real', 'to_bytes']\n",
            "['__abs__', '__add__', '__and__', '__bool__', '__ceil__', '__class__', '__delattr__', '__dir__', '__divmod__', '__doc__', '__eq__', '__float__', '__floor__', '__floordiv__', '__format__', '__ge__', '__getattribute__', '__getnewargs__', '__getstate__', '__gt__', '__hash__', '__index__', '__init__', '__init_subclass__', '__int__', '__invert__', '__le__', '__lshift__', '__lt__', '__mod__', '__mul__', '__ne__', '__neg__', '__new__', '__or__', '__pos__', '__pow__', '__radd__', '__rand__', '__rdivmod__', '__reduce__', '__reduce_ex__', '__repr__', '__rfloordiv__', '__rlshift__', '__rmod__', '__rmul__', '__ror__', '__round__', '__rpow__', '__rrshift__', '__rshift__', '__rsub__', '__rtruediv__', '__rxor__', '__setattr__', '__sizeof__', '__str__', '__sub__', '__subclasshook__', '__truediv__', '__trunc__', '__xor__', 'as_integer_ratio', 'bit_count', 'bit_length', 'conjugate', 'denominator', 'from_bytes', 'imag', 'numerator', 'real', 'to_bytes']\n",
            "['__abs__', '__add__', '__bool__', '__ceil__', '__class__', '__delattr__', '__dir__', '__divmod__', '__doc__', '__eq__', '__float__', '__floor__', '__floordiv__', '__format__', '__ge__', '__getattribute__', '__getformat__', '__getnewargs__', '__getstate__', '__gt__', '__hash__', '__init__', '__init_subclass__', '__int__', '__le__', '__lt__', '__mod__', '__mul__', '__ne__', '__neg__', '__new__', '__pos__', '__pow__', '__radd__', '__rdivmod__', '__reduce__', '__reduce_ex__', '__repr__', '__rfloordiv__', '__rmod__', '__rmul__', '__round__', '__rpow__', '__rsub__', '__rtruediv__', '__setattr__', '__sizeof__', '__str__', '__sub__', '__subclasshook__', '__truediv__', '__trunc__', 'as_integer_ratio', 'conjugate', 'fromhex', 'hex', 'imag', 'is_integer', 'real']\n",
            "['__add__', '__class__', '__contains__', '__delattr__', '__dir__', '__doc__', '__eq__', '__format__', '__ge__', '__getattribute__', '__getitem__', '__getnewargs__', '__getstate__', '__gt__', '__hash__', '__init__', '__init_subclass__', '__iter__', '__le__', '__len__', '__lt__', '__mod__', '__mul__', '__ne__', '__new__', '__reduce__', '__reduce_ex__', '__repr__', '__rmod__', '__rmul__', '__setattr__', '__sizeof__', '__str__', '__subclasshook__', 'capitalize', 'casefold', 'center', 'count', 'encode', 'endswith', 'expandtabs', 'find', 'format', 'format_map', 'index', 'isalnum', 'isalpha', 'isascii', 'isdecimal', 'isdigit', 'isidentifier', 'islower', 'isnumeric', 'isprintable', 'isspace', 'istitle', 'isupper', 'join', 'ljust', 'lower', 'lstrip', 'maketrans', 'partition', 'removeprefix', 'removesuffix', 'replace', 'rfind', 'rindex', 'rjust', 'rpartition', 'rsplit', 'rstrip', 'split', 'splitlines', 'startswith', 'strip', 'swapcase', 'title', 'translate', 'upper', 'zfill']\n",
            "9692800\n",
            "10750984\n",
            "133804325522224\n",
            "133804324917360\n"
          ]
        }
      ]
    },
    {
      "cell_type": "code",
      "source": [
        "zero_list = [0] * 5\n",
        "print(zero_list)  # Output: [0, 0, 0, 0, 0]\n",
        "\n",
        "# list concatenation\n",
        "list1 = [1, 2, 3]\n",
        "list2 = [4, 5, 6]\n",
        "combined_list = list1 + list2\n",
        "print(combined_list)  # Output: [1, 2, 3, 4, 5, 6]\n",
        "\n",
        "# list repetition\n",
        "repeated_list = list1 * 3\n",
        "print(repeated_list)  # Output: [1, 2, 3, 1, 2, 3, 1, 2, 3]\n",
        "\n",
        "# list membership\n",
        "a = 1 in list1\n",
        "print(a)  # Output: True\n",
        "\n",
        "b = 7 in list1\n",
        "print(b)  # Output: False\n",
        "\n",
        "# list length\n",
        "length = len(list1)\n",
        "print(length)  # Output: 3\n",
        "\n",
        "# list and range function\n",
        "new_list = list(range(10))\n",
        "print(new_list)  # Output: [0, 1, 2, 3, 4, 5, 6, 7, 8, 9]\n",
        "\n",
        "message = \"Hello, World!\"\n",
        "characters = list(message)\n",
        "print(characters)  # Output: ['H', 'e', 'l', 'l', 'o', ',', ' ', 'W', 'o', 'r', 'l', 'd', '!']\n",
        "\n",
        "# list unpacking\n",
        "numbered_list = [4, 8, 6]\n",
        "a, b, c = numbered_list\n",
        "print(a)  # Output: 4\n",
        "print(b)  # Output: 8\n",
        "print(c)  # Output: 6\n",
        "\n",
        "another_list = [1,2,3,4,5,6,7,8,9,10]\n",
        "x, *y, z = another_list\n",
        "print(x)  # Output: 1\n",
        "print(y)  # Output: [2, 3, 4, 5, 6, 7, 8]\n",
        "print(z)  # Output: 10"
      ],
      "metadata": {
        "id": "a2-N4-5muj6f"
      },
      "execution_count": null,
      "outputs": []
    }
  ],
  "metadata": {
    "colab": {
      "provenance": [],
      "include_colab_link": true
    },
    "kernelspec": {
      "display_name": "Python 3",
      "name": "python3"
    }
  },
  "nbformat": 4,
  "nbformat_minor": 0
}