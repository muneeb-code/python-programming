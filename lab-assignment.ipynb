{
  "nbformat": 4,
  "nbformat_minor": 0,
  "metadata": {
    "colab": {
      "provenance": [],
      "authorship_tag": "ABX9TyNkpGZ/04yP7w+7zERKut8g",
      "include_colab_link": true
    },
    "kernelspec": {
      "name": "python3",
      "display_name": "Python 3"
    },
    "language_info": {
      "name": "python"
    }
  },
  "cells": [
    {
      "cell_type": "markdown",
      "metadata": {
        "id": "view-in-github",
        "colab_type": "text"
      },
      "source": [
        "<a href=\"https://colab.research.google.com/github/muneeb-code/python-programming/blob/main/lab-assignment.ipynb\" target=\"_parent\"><img src=\"https://colab.research.google.com/assets/colab-badge.svg\" alt=\"Open In Colab\"/></a>"
      ]
    },
    {
      "cell_type": "code",
      "source": [
        "# 1. Function to Find Maximum & Minimun:\n",
        "#    - Write a function that takes an array (list) as input.\n",
        "#    - It should return the maximum & Minimum value from the array.\n",
        "#    - If the array is empty, return None.\n",
        "\n",
        "def find_min_max(arr):\n",
        "    if not arr:\n",
        "        return None, None  # Return if array is empty\n",
        "\n",
        "    minimum = maximum = arr[0]  # Initialize with the first element\n",
        "\n",
        "    for num in arr:\n",
        "        if num < minimum:\n",
        "            minimum = num\n",
        "        if num > maximum:\n",
        "            maximum = num\n",
        "\n",
        "    return minimum, maximum\n",
        "\n",
        "# Example usage for find_min_max\n",
        "arr = [int(x) for x in input(\"Enter the array elements separated by spaces: \").split()]\n",
        "min_val, max_val = find_min_max(arr)\n",
        "print(\"Minimum:\", min_val)\n",
        "print(\"Maximum:\", max_val)\n"
      ],
      "metadata": {
        "colab": {
          "base_uri": "https://localhost:8080/"
        },
        "id": "2_WS5ewU06SG",
        "outputId": "ba0cffe5-daea-45f9-c8fd-eb13406948cb"
      },
      "execution_count": 13,
      "outputs": [
        {
          "output_type": "stream",
          "name": "stdout",
          "text": [
            "Enter the array elements separated by spaces: 3 5 4 5 2 5 10\n",
            "Minimum: 2\n",
            "Maximum: 10\n"
          ]
        }
      ]
    },
    {
      "cell_type": "code",
      "source": [
        "# 2. Function to Search for a Number:\n",
        "#    - Write a function that takes an array and a number as input.\n",
        "#    - It should return the index of the number if found in the array.\n",
        "#    - If the number is not found, return -1.\n",
        "\n",
        "def find_index(arr, num):\n",
        "  for i in range(len(arr)):\n",
        "    if arr[i] == num:\n",
        "      return i\n",
        "  return -1\n",
        "\n",
        "# Example usage for find_index\n",
        "num = int(input(\"Enter a number to search: \"))\n",
        "arr = [1, 2, 3, 4, 5]\n",
        "index = find_index(arr, num)\n",
        "print(\"Index of\", num, \":\", index)\n"
      ],
      "metadata": {
        "colab": {
          "base_uri": "https://localhost:8080/"
        },
        "id": "LlDRB8cL7ppd",
        "outputId": "e1546e10-2986-4927-e8c9-0b9c257f3f4b"
      },
      "execution_count": 8,
      "outputs": [
        {
          "output_type": "stream",
          "name": "stdout",
          "text": [
            "Enter a number to search: 7\n",
            "Index of 7 : -1\n"
          ]
        }
      ]
    }
  ]
}