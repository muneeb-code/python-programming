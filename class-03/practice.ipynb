{
  "nbformat": 4,
  "nbformat_minor": 0,
  "metadata": {
    "colab": {
      "provenance": [],
      "authorship_tag": "ABX9TyNM2s1Eit+1/F61qM1m0gTs"
    },
    "kernelspec": {
      "name": "python3",
      "display_name": "Python 3"
    },
    "language_info": {
      "name": "python"
    }
  },
  "cells": [
    {
      "cell_type": "code",
      "execution_count": 2,
      "metadata": {
        "id": "_Ev6KRyFR-N2"
      },
      "outputs": [],
      "source": [
        "# lists\n",
        "student_names: list[str]=[\"Muneeb\", \"Rehan\"]\n",
        "student_grades: list[int]=[80,90]"
      ]
    },
    {
      "cell_type": "code",
      "source": [
        "# dictonary\n",
        "student_grades: dict[str,int] = {\"Muneeb\":90, \"Rehan\":80}\n",
        "print(student_grades[\"Muneeb\"])\n",
        "print(student_grades[\"Rehan\"])"
      ],
      "metadata": {
        "colab": {
          "base_uri": "https://localhost:8080/"
        },
        "id": "8c-bQmO7SjcQ",
        "outputId": "25e9e147-ab83-4b2e-bb75-0e5f0d1f0b9c"
      },
      "execution_count": 8,
      "outputs": [
        {
          "output_type": "stream",
          "name": "stdout",
          "text": [
            "90\n",
            "80\n"
          ]
        }
      ]
    },
    {
      "cell_type": "code",
      "source": [
        "student_grades.clear()\n",
        "print(student_grades)"
      ],
      "metadata": {
        "colab": {
          "base_uri": "https://localhost:8080/"
        },
        "id": "nF8hEuBvVE1I",
        "outputId": "b15a8e76-5e1b-4631-f401-b630fb02dd2b"
      },
      "execution_count": 6,
      "outputs": [
        {
          "output_type": "stream",
          "name": "stdout",
          "text": [
            "{}\n"
          ]
        }
      ]
    },
    {
      "cell_type": "code",
      "source": [
        "student_grades: dict[str,int] = {\"Muneeb\":90, \"Rehan\":80, \"usman\":70}\n",
        "print(student_grades.get('muneeb',100))"
      ],
      "metadata": {
        "id": "hDhC2kI9Vhie",
        "colab": {
          "base_uri": "https://localhost:8080/"
        },
        "outputId": "537718b0-a1bf-429c-c211-0c04c3688627"
      },
      "execution_count": 26,
      "outputs": [
        {
          "output_type": "stream",
          "name": "stdout",
          "text": [
            "100\n"
          ]
        }
      ]
    },
    {
      "cell_type": "code",
      "source": [
        "student_grades.pop('Rehan')\n"
      ],
      "metadata": {
        "colab": {
          "base_uri": "https://localhost:8080/"
        },
        "id": "A3egRbm8XFED",
        "outputId": "ba5ae854-a8d8-4ee1-b622-c42c984a31af"
      },
      "execution_count": 27,
      "outputs": [
        {
          "output_type": "execute_result",
          "data": {
            "text/plain": [
              "80"
            ]
          },
          "metadata": {},
          "execution_count": 27
        }
      ]
    },
    {
      "cell_type": "code",
      "source": [
        "new_students={\"Ali\":100}\n",
        "# student_grades.update(new_students)\n",
        "student_grades |= new_students\n",
        "print(student_grades)"
      ],
      "metadata": {
        "colab": {
          "base_uri": "https://localhost:8080/"
        },
        "id": "lhcNwDqoYMYH",
        "outputId": "7bac4306-2d3e-40fc-ccea-428b253a8410"
      },
      "execution_count": 32,
      "outputs": [
        {
          "output_type": "stream",
          "name": "stdout",
          "text": [
            "{'Muneeb': 90, 'usman': 100, 'Ali': 100}\n"
          ]
        }
      ]
    },
    {
      "cell_type": "code",
      "source": [
        "# values, keys, items\n",
        "student_grades.keys()"
      ],
      "metadata": {
        "colab": {
          "base_uri": "https://localhost:8080/"
        },
        "id": "dAvSIAslZDU6",
        "outputId": "1f72fec3-d8b4-4afc-87d4-8eba4cf9ee73"
      },
      "execution_count": 38,
      "outputs": [
        {
          "output_type": "execute_result",
          "data": {
            "text/plain": [
              "dict_keys(['Muneeb', 'usman', 'Ali'])"
            ]
          },
          "metadata": {},
          "execution_count": 38
        }
      ]
    },
    {
      "cell_type": "code",
      "source": [
        "student_grades.values()"
      ],
      "metadata": {
        "colab": {
          "base_uri": "https://localhost:8080/"
        },
        "id": "Z8r_jbYEZrNY",
        "outputId": "ba85829d-0aa7-44cc-83ca-666d74d7e882"
      },
      "execution_count": 39,
      "outputs": [
        {
          "output_type": "execute_result",
          "data": {
            "text/plain": [
              "dict_values([90, 100, 100])"
            ]
          },
          "metadata": {},
          "execution_count": 39
        }
      ]
    },
    {
      "cell_type": "code",
      "source": [
        "student_grades.items()"
      ],
      "metadata": {
        "colab": {
          "base_uri": "https://localhost:8080/"
        },
        "id": "3j9Nu5bkaIBe",
        "outputId": "b73b558a-e942-495d-9719-9c312cea1c23"
      },
      "execution_count": 40,
      "outputs": [
        {
          "output_type": "execute_result",
          "data": {
            "text/plain": [
              "dict_items([('Muneeb', 90), ('usman', 100), ('Ali', 100)])"
            ]
          },
          "metadata": {},
          "execution_count": 40
        }
      ]
    },
    {
      "cell_type": "code",
      "source": [
        "for key, value in student_grades.items():\n",
        "    print(f\"The key is {key} and the value is {value}\")"
      ],
      "metadata": {
        "colab": {
          "base_uri": "https://localhost:8080/"
        },
        "id": "3Jug-HqybEvQ",
        "outputId": "a0345bac-5192-4d30-b58c-8ffd310763d6"
      },
      "execution_count": 42,
      "outputs": [
        {
          "output_type": "stream",
          "name": "stdout",
          "text": [
            "The key is Muneeb and the value is 90\n",
            "The key is usman and the value is 100\n",
            "The key is Ali and the value is 100\n"
          ]
        }
      ]
    },
    {
      "cell_type": "markdown",
      "source": [
        "Tuple (immutable)"
      ],
      "metadata": {
        "id": "eo93PMftco9X"
      }
    },
    {
      "cell_type": "code",
      "source": [
        "student_roll=(1,2,3,4,5)\n",
        "print(id(student_roll))\n",
        "student_roll=(1,2,3,4,5,6,7)\n",
        "print(id(student_roll))\n",
        "print(student_roll)"
      ],
      "metadata": {
        "colab": {
          "base_uri": "https://localhost:8080/"
        },
        "id": "OAhHrshicrby",
        "outputId": "94a2728e-efba-4f49-ad9e-1ae1089c4aca"
      },
      "execution_count": 43,
      "outputs": [
        {
          "output_type": "stream",
          "name": "stdout",
          "text": [
            "137134187275552\n",
            "137134184991136\n",
            "(1, 2, 3, 4, 5, 6, 7)\n"
          ]
        }
      ]
    },
    {
      "cell_type": "code",
      "source": [
        "student_names=(\"muneeb\",\"rehan\")\n",
        "print(max(student_names))\n",
        "print(min(student_names))\n"
      ],
      "metadata": {
        "colab": {
          "base_uri": "https://localhost:8080/"
        },
        "id": "f2SQY9yOifrV",
        "outputId": "3e79787b-3033-46c1-838d-bb77047f8791"
      },
      "execution_count": 44,
      "outputs": [
        {
          "output_type": "stream",
          "name": "stdout",
          "text": [
            "rehan\n",
            "muneeb\n"
          ]
        }
      ]
    },
    {
      "cell_type": "code",
      "source": [
        "# Tuple unpacking\n",
        "scores=(10,20,30)\n",
        "x,y,z=scores\n",
        "print(x)\n",
        "print(y)\n",
        "print(z)"
      ],
      "metadata": {
        "colab": {
          "base_uri": "https://localhost:8080/"
        },
        "id": "OOKnKhfbjnPh",
        "outputId": "d9681961-d9b7-4248-8bc7-afa618db1bf7"
      },
      "execution_count": 48,
      "outputs": [
        {
          "output_type": "stream",
          "name": "stdout",
          "text": [
            "10\n",
            "20\n",
            "30\n"
          ]
        }
      ]
    },
    {
      "cell_type": "markdown",
      "source": [
        "Sets"
      ],
      "metadata": {
        "id": "DHnkUi-plRZb"
      }
    },
    {
      "cell_type": "code",
      "source": [
        "guest_list=[\"Rehan\",\"Usama\",\"Ibtism\",\"Rehan\"]"
      ],
      "metadata": {
        "id": "hc4NlPJelFww"
      },
      "execution_count": null,
      "outputs": []
    },
    {
      "cell_type": "code",
      "source": [
        "num_set={1,2,3,4,5,2,3}\n",
        "print(num_set)"
      ],
      "metadata": {
        "colab": {
          "base_uri": "https://localhost:8080/"
        },
        "id": "Qea6Ll5Jl1XT",
        "outputId": "2f5eb885-d910-4fd3-c65b-4ae3f110050c"
      },
      "execution_count": 49,
      "outputs": [
        {
          "output_type": "stream",
          "name": "stdout",
          "text": [
            "{1, 2, 3, 4, 5}\n"
          ]
        }
      ]
    }
  ]
}